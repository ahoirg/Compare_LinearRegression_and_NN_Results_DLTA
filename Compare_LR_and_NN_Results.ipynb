{
  "cells": [
    {
      "attachments": {},
      "cell_type": "markdown",
      "metadata": {
        "id": "pxsNqb9E41tk"
      },
      "source": [
        "Tasks:\n",
        "\n",
        "1.   //\n",
        "2.   Import the three datasets (training, validation and test) into a google colab and analyze your given data set. Your target variable will be \"discr_r\".\n",
        "3.   Generate a Linear Regression model as a benchmark and evaluate it (for comparison the mean absolute error as a performance metric is suggested). \n",
        "4.   Generate a neural network with an arbitrary choice of hyperparameters in order to perform a comparable task to the linear regression model and evaluate it. \n",
        "5.   Compare the feature importance for the benchmark and the baseline neural network.\n",
        "6.   Perform hyperparameter tuning with Optuna in order to generate a better performing neural network. \n",
        "7.   Evaluate its results and compare them as well as the feature importance to the benchmark and the baseline neural network. \n",
        "8.   Describe your results for all three models and explain what your results means with respect to $(R_{Mt} - R_{ft})$ , SMB and HML. "
      ]
    },
    {
      "cell_type": "markdown",
      "metadata": {
        "id": "3tzT1eTOy1WG"
      },
      "source": [
        "## Step **2**"
      ]
    },
    {
      "cell_type": "code",
      "execution_count": null,
      "metadata": {
        "colab": {
          "base_uri": "https://localhost:8080/",
          "height": 142
        },
        "id": "7-6bwG2PfjpA",
        "outputId": "280bc177-1947-4e95-dbcf-1ece88b08be1"
      },
      "outputs": [
        {
          "data": {
            "text/html": [
              "\n",
              "     <input type=\"file\" id=\"files-0a0c331e-9331-41e1-8d90-c6188a5e4fc6\" name=\"files[]\" multiple disabled\n",
              "        style=\"border:none\" />\n",
              "     <output id=\"result-0a0c331e-9331-41e1-8d90-c6188a5e4fc6\">\n",
              "      Upload widget is only available when the cell has been executed in the\n",
              "      current browser session. Please rerun this cell to enable.\n",
              "      </output>\n",
              "      <script>// Copyright 2017 Google LLC\n",
              "//\n",
              "// Licensed under the Apache License, Version 2.0 (the \"License\");\n",
              "// you may not use this file except in compliance with the License.\n",
              "// You may obtain a copy of the License at\n",
              "//\n",
              "//      http://www.apache.org/licenses/LICENSE-2.0\n",
              "//\n",
              "// Unless required by applicable law or agreed to in writing, software\n",
              "// distributed under the License is distributed on an \"AS IS\" BASIS,\n",
              "// WITHOUT WARRANTIES OR CONDITIONS OF ANY KIND, either express or implied.\n",
              "// See the License for the specific language governing permissions and\n",
              "// limitations under the License.\n",
              "\n",
              "/**\n",
              " * @fileoverview Helpers for google.colab Python module.\n",
              " */\n",
              "(function(scope) {\n",
              "function span(text, styleAttributes = {}) {\n",
              "  const element = document.createElement('span');\n",
              "  element.textContent = text;\n",
              "  for (const key of Object.keys(styleAttributes)) {\n",
              "    element.style[key] = styleAttributes[key];\n",
              "  }\n",
              "  return element;\n",
              "}\n",
              "\n",
              "// Max number of bytes which will be uploaded at a time.\n",
              "const MAX_PAYLOAD_SIZE = 100 * 1024;\n",
              "\n",
              "function _uploadFiles(inputId, outputId) {\n",
              "  const steps = uploadFilesStep(inputId, outputId);\n",
              "  const outputElement = document.getElementById(outputId);\n",
              "  // Cache steps on the outputElement to make it available for the next call\n",
              "  // to uploadFilesContinue from Python.\n",
              "  outputElement.steps = steps;\n",
              "\n",
              "  return _uploadFilesContinue(outputId);\n",
              "}\n",
              "\n",
              "// This is roughly an async generator (not supported in the browser yet),\n",
              "// where there are multiple asynchronous steps and the Python side is going\n",
              "// to poll for completion of each step.\n",
              "// This uses a Promise to block the python side on completion of each step,\n",
              "// then passes the result of the previous step as the input to the next step.\n",
              "function _uploadFilesContinue(outputId) {\n",
              "  const outputElement = document.getElementById(outputId);\n",
              "  const steps = outputElement.steps;\n",
              "\n",
              "  const next = steps.next(outputElement.lastPromiseValue);\n",
              "  return Promise.resolve(next.value.promise).then((value) => {\n",
              "    // Cache the last promise value to make it available to the next\n",
              "    // step of the generator.\n",
              "    outputElement.lastPromiseValue = value;\n",
              "    return next.value.response;\n",
              "  });\n",
              "}\n",
              "\n",
              "/**\n",
              " * Generator function which is called between each async step of the upload\n",
              " * process.\n",
              " * @param {string} inputId Element ID of the input file picker element.\n",
              " * @param {string} outputId Element ID of the output display.\n",
              " * @return {!Iterable<!Object>} Iterable of next steps.\n",
              " */\n",
              "function* uploadFilesStep(inputId, outputId) {\n",
              "  const inputElement = document.getElementById(inputId);\n",
              "  inputElement.disabled = false;\n",
              "\n",
              "  const outputElement = document.getElementById(outputId);\n",
              "  outputElement.innerHTML = '';\n",
              "\n",
              "  const pickedPromise = new Promise((resolve) => {\n",
              "    inputElement.addEventListener('change', (e) => {\n",
              "      resolve(e.target.files);\n",
              "    });\n",
              "  });\n",
              "\n",
              "  const cancel = document.createElement('button');\n",
              "  inputElement.parentElement.appendChild(cancel);\n",
              "  cancel.textContent = 'Cancel upload';\n",
              "  const cancelPromise = new Promise((resolve) => {\n",
              "    cancel.onclick = () => {\n",
              "      resolve(null);\n",
              "    };\n",
              "  });\n",
              "\n",
              "  // Wait for the user to pick the files.\n",
              "  const files = yield {\n",
              "    promise: Promise.race([pickedPromise, cancelPromise]),\n",
              "    response: {\n",
              "      action: 'starting',\n",
              "    }\n",
              "  };\n",
              "\n",
              "  cancel.remove();\n",
              "\n",
              "  // Disable the input element since further picks are not allowed.\n",
              "  inputElement.disabled = true;\n",
              "\n",
              "  if (!files) {\n",
              "    return {\n",
              "      response: {\n",
              "        action: 'complete',\n",
              "      }\n",
              "    };\n",
              "  }\n",
              "\n",
              "  for (const file of files) {\n",
              "    const li = document.createElement('li');\n",
              "    li.append(span(file.name, {fontWeight: 'bold'}));\n",
              "    li.append(span(\n",
              "        `(${file.type || 'n/a'}) - ${file.size} bytes, ` +\n",
              "        `last modified: ${\n",
              "            file.lastModifiedDate ? file.lastModifiedDate.toLocaleDateString() :\n",
              "                                    'n/a'} - `));\n",
              "    const percent = span('0% done');\n",
              "    li.appendChild(percent);\n",
              "\n",
              "    outputElement.appendChild(li);\n",
              "\n",
              "    const fileDataPromise = new Promise((resolve) => {\n",
              "      const reader = new FileReader();\n",
              "      reader.onload = (e) => {\n",
              "        resolve(e.target.result);\n",
              "      };\n",
              "      reader.readAsArrayBuffer(file);\n",
              "    });\n",
              "    // Wait for the data to be ready.\n",
              "    let fileData = yield {\n",
              "      promise: fileDataPromise,\n",
              "      response: {\n",
              "        action: 'continue',\n",
              "      }\n",
              "    };\n",
              "\n",
              "    // Use a chunked sending to avoid message size limits. See b/62115660.\n",
              "    let position = 0;\n",
              "    do {\n",
              "      const length = Math.min(fileData.byteLength - position, MAX_PAYLOAD_SIZE);\n",
              "      const chunk = new Uint8Array(fileData, position, length);\n",
              "      position += length;\n",
              "\n",
              "      const base64 = btoa(String.fromCharCode.apply(null, chunk));\n",
              "      yield {\n",
              "        response: {\n",
              "          action: 'append',\n",
              "          file: file.name,\n",
              "          data: base64,\n",
              "        },\n",
              "      };\n",
              "\n",
              "      let percentDone = fileData.byteLength === 0 ?\n",
              "          100 :\n",
              "          Math.round((position / fileData.byteLength) * 100);\n",
              "      percent.textContent = `${percentDone}% done`;\n",
              "\n",
              "    } while (position < fileData.byteLength);\n",
              "  }\n",
              "\n",
              "  // All done.\n",
              "  yield {\n",
              "    response: {\n",
              "      action: 'complete',\n",
              "    }\n",
              "  };\n",
              "}\n",
              "\n",
              "scope.google = scope.google || {};\n",
              "scope.google.colab = scope.google.colab || {};\n",
              "scope.google.colab._files = {\n",
              "  _uploadFiles,\n",
              "  _uploadFilesContinue,\n",
              "};\n",
              "})(self);\n",
              "</script> "
            ],
            "text/plain": [
              "<IPython.core.display.HTML object>"
            ]
          },
          "metadata": {},
          "output_type": "display_data"
        },
        {
          "name": "stdout",
          "output_type": "stream",
          "text": [
            "Saving test_data.csv to test_data.csv\n",
            "Saving train_data.csv to train_data.csv\n",
            "Saving validation_data.csv to validation_data.csv\n"
          ]
        }
      ],
      "source": [
        "# upload files from local\n",
        "from google.colab import files\n",
        "uploaded = files.upload()"
      ]
    },
    {
      "cell_type": "code",
      "execution_count": null,
      "metadata": {
        "id": "J1GNC6Soy8lg"
      },
      "outputs": [],
      "source": [
        "import pandas as pd\n",
        "import numpy as np\n",
        "import seaborn as sns\n",
        "from matplotlib import pyplot as plt\n",
        "import io\n",
        "\n",
        "## assigment data from csv\n",
        "train_df = pd.read_csv(io.BytesIO(uploaded['train_data.csv']))\n",
        "val_df = pd.read_csv(io.BytesIO(uploaded['validation_data.csv']))\n",
        "test_df = pd.read_csv(io.BytesIO(uploaded['test_data.csv']))\n",
        "\n",
        "## set date to index\n",
        "train_df = train_df.rename(columns={\"Unnamed: 0\": \"date\"}).set_index(['date'], drop=True)\n",
        "val_df = val_df.rename(columns={\"Unnamed: 0\": \"date\"}).set_index(['date'], drop=True)\n",
        "test_df = test_df.rename(columns={\"Unnamed: 0\": \"date\"}).set_index(['date'], drop=True)\n"
      ]
    },
    {
      "cell_type": "code",
      "execution_count": null,
      "metadata": {
        "colab": {
          "base_uri": "https://localhost:8080/"
        },
        "id": "QqKDuTrlk4Ap",
        "outputId": "ac0a437b-3fd1-49bd-9199-600d5facbfe1"
      },
      "outputs": [
        {
          "name": "stdout",
          "output_type": "stream",
          "text": [
            "<class 'pandas.core.frame.DataFrame'>\n",
            "Index: 4302 entries, 2019-06-30 to 2019-06-30\n",
            "Data columns (total 4 columns):\n",
            " #   Column          Non-Null Count  Dtype  \n",
            "---  ------          --------------  -----  \n",
            " 0   book_to_market  4302 non-null   float64\n",
            " 1   market_cap      4302 non-null   float64\n",
            " 2   beta            4302 non-null   float64\n",
            " 3   discr_r         4302 non-null   float64\n",
            "dtypes: float64(4)\n",
            "memory usage: 168.0+ KB\n",
            "\n",
            "\n",
            "<class 'pandas.core.frame.DataFrame'>\n",
            "Index: 4335 entries, 2019-07-31 to 2019-07-31\n",
            "Data columns (total 4 columns):\n",
            " #   Column          Non-Null Count  Dtype  \n",
            "---  ------          --------------  -----  \n",
            " 0   book_to_market  4335 non-null   float64\n",
            " 1   market_cap      4335 non-null   float64\n",
            " 2   beta            4335 non-null   float64\n",
            " 3   discr_r         4335 non-null   float64\n",
            "dtypes: float64(4)\n",
            "memory usage: 169.3+ KB\n",
            "\n",
            "\n",
            "<class 'pandas.core.frame.DataFrame'>\n",
            "Index: 4348 entries, 2019-08-31 to 2019-08-31\n",
            "Data columns (total 4 columns):\n",
            " #   Column          Non-Null Count  Dtype  \n",
            "---  ------          --------------  -----  \n",
            " 0   book_to_market  4348 non-null   float64\n",
            " 1   market_cap      4348 non-null   float64\n",
            " 2   beta            4348 non-null   float64\n",
            " 3   discr_r         4348 non-null   float64\n",
            "dtypes: float64(4)\n",
            "memory usage: 169.8+ KB\n"
          ]
        }
      ],
      "source": [
        "train_df.info()\n",
        "print(\"\\n\")\n",
        "val_df.info()\n",
        "print(\"\\n\")\n",
        "test_df.info()"
      ]
    },
    {
      "cell_type": "markdown",
      "metadata": {
        "id": "S5DZ3hIDlUNa"
      },
      "source": [
        "#####We have confirmed that there is no outlier Dtype. Therefore, no need to do any conversion.\n",
        "#####There is no row with a null value.\n",
        "\n",
        "\n",
        "#####In the next step, we will examine the correlation between columns.\n",
        "*   If the correlation value for two columns is close to 1, it is expected that the data in this column will affect each other negatively-positively.\n",
        "\n",
        "\n",
        "\n",
        "\n",
        "\n"
      ]
    },
    {
      "cell_type": "code",
      "execution_count": null,
      "metadata": {
        "colab": {
          "base_uri": "https://localhost:8080/",
          "height": 355
        },
        "id": "dYhHYb1m3FQ2",
        "outputId": "808a504f-3494-43bb-f8fc-b4bb28394dc7"
      },
      "outputs": [
        {
          "data": {
            "text/plain": [
              "<matplotlib.axes._subplots.AxesSubplot at 0x7fc025208bb0>"
            ]
          },
          "execution_count": 7,
          "metadata": {},
          "output_type": "execute_result"
        },
        {
          "data": {
            "image/png": "[encoded data removed]",
            "text/plain": [
              "<Figure size 432x288 with 2 Axes>"
            ]
          },
          "metadata": {
            "needs_background": "light"
          },
          "output_type": "display_data"
        }
      ],
      "source": [
        "## train data correlations\n",
        "sns.heatmap(train_df.corr(), cmap=\"crest\", annot=True, linewidth=.5)\n",
        "# There is a possitive weak correlation between beta and discr_r (target). \n",
        "# There is a negative very weak correlation between market_cap and discr_r (target). \n",
        "# There is a possitive very weak correlation between book_to_market and discr_r (target)."
      ]
    },
    {
      "cell_type": "code",
      "execution_count": null,
      "metadata": {
        "colab": {
          "base_uri": "https://localhost:8080/",
          "height": 355
        },
        "id": "KTG1kShu1cRf",
        "outputId": "e4180254-bdad-4fc0-d3d5-0978f5de81b7"
      },
      "outputs": [
        {
          "data": {
            "text/plain": [
              "<matplotlib.axes._subplots.AxesSubplot at 0x7fc022424250>"
            ]
          },
          "execution_count": 8,
          "metadata": {},
          "output_type": "execute_result"
        },
        {
          "data": {
            "image/png": "[encoded data removed]",
            "text/plain": [
              "<Figure size 432x288 with 2 Axes>"
            ]
          },
          "metadata": {
            "needs_background": "light"
          },
          "output_type": "display_data"
        }
      ],
      "source": [
        "##test data correlations\n",
        "sns.heatmap(test_df.corr(), cmap=\"crest\", annot=True, linewidth=.5)\n",
        "# There is a negative weak correlation between beta and discr_r (target). \n",
        "# There is a positive very weak correlation between market_cap and discr_r (target). \n",
        "# There is a negative very weak correlation between book_to_market and discr_r (target)."
      ]
    },
    {
      "cell_type": "code",
      "execution_count": null,
      "metadata": {
        "colab": {
          "base_uri": "https://localhost:8080/",
          "height": 355
        },
        "id": "a93TqO04eFAD",
        "outputId": "5426973e-6201-4595-a327-083c7670501a"
      },
      "outputs": [
        {
          "data": {
            "text/plain": [
              "<matplotlib.axes._subplots.AxesSubplot at 0x7fc0228b4430>"
            ]
          },
          "execution_count": 9,
          "metadata": {},
          "output_type": "execute_result"
        },
        {
          "data": {
            "image/png": "[encoded data removed]",
            "text/plain": [
              "<Figure size 432x288 with 2 Axes>"
            ]
          },
          "metadata": {
            "needs_background": "light"
          },
          "output_type": "display_data"
        }
      ],
      "source": [
        "##val_df data correlations\n",
        "sns.heatmap(val_df.corr(), cmap=\"crest\", annot=True, linewidth=.5)\n",
        "# There is a negative very weak correlation between beta and discr_r (target). \n",
        "# There is a positive very weak correlation between market_cap and discr_r (target). \n",
        "# There is a negative very weak correlation between book_to_market and discr_r (target)."
      ]
    },
    {
      "cell_type": "code",
      "execution_count": null,
      "metadata": {
        "id": "BO2Ffb6gn-od"
      },
      "outputs": [],
      "source": [
        "#define train,val,test variables and target\n",
        "X_train = train_df[[\"book_to_market\",\"market_cap\",\"beta\"]]\n",
        "y_train = train_df[\"discr_r\"]\n",
        "\n",
        "X_val = val_df[[\"book_to_market\",\"market_cap\",\"beta\"]]\n",
        "y_val = val_df[\"discr_r\"]\n",
        "\n",
        "X_test = test_df[[\"book_to_market\",\"market_cap\",\"beta\"]]\n",
        "y_test = test_df[\"discr_r\"]"
      ]
    },
    {
      "cell_type": "code",
      "execution_count": null,
      "metadata": {
        "id": "Y3RTz-IUd75z"
      },
      "outputs": [],
      "source": [
        "from sklearn.preprocessing import StandardScaler\n",
        "scaler = StandardScaler()\n",
        "scaler.fit(X_train)\n",
        "X_train_s, X_test_s, X_val_s = scaler.transform(X_train), scaler.transform(X_test), scaler.transform(X_val)"
      ]
    },
    {
      "cell_type": "markdown",
      "metadata": {
        "id": "8UL0T9NFy6bi"
      },
      "source": [
        "# step 3"
      ]
    },
    {
      "cell_type": "code",
      "execution_count": null,
      "metadata": {
        "id": "I1sq9Huhg9tV"
      },
      "outputs": [],
      "source": [
        "from sklearn.linear_model import LinearRegression\n",
        "from sklearn.metrics import r2_score\n",
        "\n",
        "# Train the model on the training data\n",
        "log_reg = LinearRegression()\n",
        "log_reg.fit(X_train_s, y_train)\n",
        "\n",
        "# Make predictions on the test data\n",
        "y_test_pred = log_reg.predict(X_test_s)"
      ]
    },
    {
      "cell_type": "markdown",
      "metadata": {
        "id": "skfLYJ_DuiIS"
      },
      "source": [
        "### Mean-Absolute-Error"
      ]
    },
    {
      "cell_type": "code",
      "execution_count": null,
      "metadata": {
        "colab": {
          "base_uri": "https://localhost:8080/"
        },
        "id": "kYsu_YVF33jk",
        "outputId": "42be8568-ee23-4579-982e-9fba7db77695"
      },
      "outputs": [
        {
          "name": "stdout",
          "output_type": "stream",
          "text": [
            "0.13710582505046462\n"
          ]
        }
      ],
      "source": [
        "from sklearn.metrics import mean_absolute_error\n",
        "\n",
        "# Calculate the mean squared error\n",
        "lr_mae = mean_absolute_error(y_test_pred, y_test)   \n",
        "\n",
        "print(lr_mae)"
      ]
    },
    {
      "cell_type": "code",
      "execution_count": null,
      "metadata": {
        "colab": {
          "base_uri": "https://localhost:8080/"
        },
        "id": "a4dtVfVCn7--",
        "outputId": "269d5946-9ad1-4582-87a3-1700db7ccea2"
      },
      "outputs": [
        {
          "name": "stdout",
          "output_type": "stream",
          "text": [
            "Test R2 score:-0.4750\n"
          ]
        }
      ],
      "source": [
        "lr_r2_score = r2_score(y_test, y_test_pred)\n",
        "print(f'Test R2 score:{lr_r2_score:.4f}')\n"
      ]
    },
    {
      "cell_type": "code",
      "execution_count": null,
      "metadata": {
        "colab": {
          "base_uri": "https://localhost:8080/",
          "height": 296
        },
        "id": "7r9iXDXoqn5I",
        "outputId": "8e5a47f6-8957-45f2-8dfe-e43db4864a79"
      },
      "outputs": [
        {
          "data": {
            "text/plain": [
              "Text(0, 0.5, 'realizations')"
            ]
          },
          "execution_count": 12,
          "metadata": {},
          "output_type": "execute_result"
        },
        {
          "data": {
            "image/png": "[encoded data removed]",
            "text/plain": [
              "<Figure size 432x288 with 1 Axes>"
            ]
          },
          "metadata": {
            "needs_background": "light"
          },
          "output_type": "display_data"
        }
      ],
      "source": [
        "fig,axs = plt.subplots()\n",
        "axs.scatter(y_test_pred,y_test)\n",
        "axs.plot([0,1],[0,1], transform=axs.transAxes, c=\"orange\")\n",
        "axs.set_xlabel(\"predictions\")\n",
        "axs.set_ylabel(\"realizations\")"
      ]
    },
    {
      "cell_type": "markdown",
      "metadata": {
        "id": "zhBdSbqX53lp"
      },
      "source": [
        "# step 4"
      ]
    },
    {
      "cell_type": "code",
      "execution_count": null,
      "metadata": {
        "id": "LHgBFXitbzIH"
      },
      "outputs": [],
      "source": [
        "output_fun = 'linear'"
      ]
    },
    {
      "cell_type": "code",
      "execution_count": null,
      "metadata": {
        "colab": {
          "base_uri": "https://localhost:8080/"
        },
        "id": "T_dfTz8t6NHa",
        "outputId": "619818e9-b92b-4948-8862-7903e56fdd85"
      },
      "outputs": [
        {
          "name": "stdout",
          "output_type": "stream",
          "text": [
            "Epoch 1/25\n",
            "135/135 [==============================] - 3s 8ms/step - loss: 0.0431 - val_loss: 0.0223\n",
            "Epoch 2/25\n",
            "135/135 [==============================] - 0s 3ms/step - loss: 0.0213 - val_loss: 0.0211\n",
            "Epoch 3/25\n",
            "135/135 [==============================] - 0s 3ms/step - loss: 0.0210 - val_loss: 0.0259\n",
            "Epoch 4/25\n",
            "135/135 [==============================] - 1s 4ms/step - loss: 0.0211 - val_loss: 0.0221\n",
            "Epoch 5/25\n",
            "135/135 [==============================] - 1s 4ms/step - loss: 0.0209 - val_loss: 0.0250\n",
            "Epoch 6/25\n",
            "135/135 [==============================] - 0s 4ms/step - loss: 0.0209 - val_loss: 0.0219\n",
            "Epoch 7/25\n",
            "135/135 [==============================] - 1s 5ms/step - loss: 0.0209 - val_loss: 0.0215\n",
            "Epoch 8/25\n",
            "135/135 [==============================] - 1s 5ms/step - loss: 0.0209 - val_loss: 0.0252\n",
            "Epoch 9/25\n",
            "135/135 [==============================] - 0s 3ms/step - loss: 0.0209 - val_loss: 0.0227\n",
            "Epoch 10/25\n",
            "135/135 [==============================] - 0s 3ms/step - loss: 0.0209 - val_loss: 0.0227\n",
            "Epoch 11/25\n",
            "135/135 [==============================] - 0s 3ms/step - loss: 0.0209 - val_loss: 0.0230\n",
            "Epoch 12/25\n",
            "135/135 [==============================] - 1s 4ms/step - loss: 0.0208 - val_loss: 0.0229\n",
            "Epoch 13/25\n",
            "135/135 [==============================] - 0s 3ms/step - loss: 0.0208 - val_loss: 0.0202\n",
            "Epoch 14/25\n",
            "135/135 [==============================] - 1s 4ms/step - loss: 0.0209 - val_loss: 0.0227\n",
            "Epoch 15/25\n",
            "135/135 [==============================] - 0s 3ms/step - loss: 0.0208 - val_loss: 0.0232\n",
            "Epoch 16/25\n",
            "135/135 [==============================] - 1s 5ms/step - loss: 0.0208 - val_loss: 0.0209\n",
            "Epoch 17/25\n",
            "135/135 [==============================] - 1s 4ms/step - loss: 0.0209 - val_loss: 0.0243\n",
            "Epoch 18/25\n",
            "135/135 [==============================] - 0s 4ms/step - loss: 0.0208 - val_loss: 0.0215\n",
            "Epoch 19/25\n",
            "135/135 [==============================] - 0s 4ms/step - loss: 0.0208 - val_loss: 0.0229\n",
            "Epoch 20/25\n",
            "135/135 [==============================] - 1s 4ms/step - loss: 0.0207 - val_loss: 0.0280\n",
            "Epoch 21/25\n",
            "135/135 [==============================] - 1s 4ms/step - loss: 0.0208 - val_loss: 0.0231\n",
            "Epoch 22/25\n",
            "135/135 [==============================] - 1s 4ms/step - loss: 0.0207 - val_loss: 0.0236\n",
            "Epoch 23/25\n",
            "135/135 [==============================] - 0s 4ms/step - loss: 0.0208 - val_loss: 0.0213\n",
            "Epoch 24/25\n",
            "135/135 [==============================] - 1s 4ms/step - loss: 0.0207 - val_loss: 0.0241\n",
            "Epoch 25/25\n",
            "135/135 [==============================] - 0s 4ms/step - loss: 0.0208 - val_loss: 0.0212\n"
          ]
        }
      ],
      "source": [
        "import tensorflow as tf\n",
        "from tensorflow import keras\n",
        "from keras import Sequential\n",
        "from keras.layers import Dense, Input\n",
        "\n",
        "model = tf.keras.Sequential([\n",
        "    tf.keras.layers.InputLayer(input_shape=(X_train_s.shape[1])),\n",
        "    tf.keras.layers.Dense(20, activation='tanh', name='hidden_layer_1'),\n",
        "    tf.keras.layers.Dense(20, activation='tanh', name='hidden_layer_2'),\n",
        "    tf.keras.layers.Dense(10, activation='tanh', name='hidden_layer_3'),\n",
        "    tf.keras.layers.Dense(5, activation='tanh', name='hidden_layer_4'),\n",
        "    tf.keras.layers.Dense(1, activation=output_fun)\n",
        "])\n",
        "\n",
        "model.compile(loss='mean_squared_error', optimizer= \"RMSprop\")\n",
        "history_nn = model.fit(X_train_s, \n",
        "          y_train, \n",
        "          epochs = 25,\n",
        "          validation_data=(X_val_s, y_val))"
      ]
    },
    {
      "cell_type": "code",
      "execution_count": null,
      "metadata": {
        "colab": {
          "base_uri": "https://localhost:8080/",
          "height": 404
        },
        "id": "alQ6y1oC_nbP",
        "outputId": "ab7feb7b-70da-4705-b1a7-7d7f550b0e23"
      },
      "outputs": [
        {
          "data": {
            "image/png": "[encoded data removed]",
            "text/plain": [
              "<Figure size 432x432 with 1 Axes>"
            ]
          },
          "metadata": {
            "needs_background": "light"
          },
          "output_type": "display_data"
        }
      ],
      "source": [
        "fig = plt.figure(figsize=(6,6))\n",
        "\n",
        "# summarize history for loss\n",
        "plt.plot(history_nn.history['loss'], label=\"training\")\n",
        "plt.plot(history_nn.history['val_loss'], label=\"validation\")\n",
        "plt.title('model training')\n",
        "plt.ylabel('loss')\n",
        "plt.xlabel('epoch')\n",
        "plt.legend()\n",
        "plt.show()"
      ]
    },
    {
      "cell_type": "markdown",
      "metadata": {
        "id": "BlPaL7CtxqAw"
      },
      "source": [
        "### Mean-Absolute-Error"
      ]
    },
    {
      "cell_type": "code",
      "execution_count": null,
      "metadata": {
        "colab": {
          "base_uri": "https://localhost:8080/"
        },
        "id": "ciSan15-_-5o",
        "outputId": "4eb1eb10-d459-4e4b-88b2-e689a02ff49e"
      },
      "outputs": [
        {
          "name": "stdout",
          "output_type": "stream",
          "text": [
            "136/136 [==============================] - 0s 1ms/step\n",
            "0.13058082382271863\n"
          ]
        }
      ],
      "source": [
        "y_nn_test_pred = model.predict(X_test_s)\n",
        "nn_mae = mean_absolute_error(y_nn_test_pred, y_test)\n",
        "print(nn_mae)"
      ]
    },
    {
      "cell_type": "code",
      "execution_count": null,
      "metadata": {
        "colab": {
          "base_uri": "https://localhost:8080/"
        },
        "id": "kx6p1z8Cq-EH",
        "outputId": "72f88e68-9bf6-41e8-ba83-9e8e576b4067"
      },
      "outputs": [
        {
          "name": "stdout",
          "output_type": "stream",
          "text": [
            "Test R2 score:-0.3843\n"
          ]
        }
      ],
      "source": [
        "nn_r2_score = r2_score(y_test, y_nn_test_pred)\n",
        "print(f'Test R2 score:{nn_r2_score:.4f}')"
      ]
    },
    {
      "cell_type": "code",
      "execution_count": null,
      "metadata": {
        "colab": {
          "base_uri": "https://localhost:8080/",
          "height": 296
        },
        "id": "GdMezpLErJWg",
        "outputId": "b1251f0f-6621-483d-fac1-a2d288892874"
      },
      "outputs": [
        {
          "data": {
            "text/plain": [
              "Text(0, 0.5, 'realizations')"
            ]
          },
          "execution_count": 27,
          "metadata": {},
          "output_type": "execute_result"
        },
        {
          "data": {
            "image/png": "[encoded data removed]",
            "text/plain": [
              "<Figure size 432x288 with 1 Axes>"
            ]
          },
          "metadata": {
            "needs_background": "light"
          },
          "output_type": "display_data"
        }
      ],
      "source": [
        "fig,axs = plt.subplots()\n",
        "axs.scatter(y_nn_test_pred,y_test)\n",
        "axs.plot([0,1],[0,1], transform=axs.transAxes, c=\"orange\")\n",
        "axs.set_xlabel(\"predictions\")\n",
        "axs.set_ylabel(\"realizations\")"
      ]
    },
    {
      "cell_type": "markdown",
      "metadata": {
        "id": "qqbvqAtBHW9u"
      },
      "source": [
        "Compare **mean absolute error of neural network** and  **mean absolute error of linear regression**. (Closer to 0 is a better result.)"
      ]
    },
    {
      "cell_type": "code",
      "execution_count": null,
      "metadata": {
        "colab": {
          "base_uri": "https://localhost:8080/"
        },
        "id": "fZj_BzVSHtuM",
        "outputId": "c335678b-527b-4235-a10d-8e8d7796989b"
      },
      "outputs": [
        {
          "name": "stdout",
          "output_type": "stream",
          "text": [
            "mean_absolute_error of neural network: 0.13058082382271863\n",
            "\n",
            "mean_absolute_error of linear regression: 0.13710582505046462\n"
          ]
        }
      ],
      "source": [
        "print(\"mean_absolute_error of neural network: \" + str(nn_mae)+ \"\\n\")\n",
        "print(\"mean_absolute_error of linear regression: \" + str(lr_mae))"
      ]
    },
    {
      "cell_type": "markdown",
      "metadata": {
        "id": "aXg2T8H9IgeN"
      },
      "source": [
        "####Result of Step 4\n",
        "1.   Both models are well-trained and return results with a low margin of error.\n",
        "2.   The neural network model gives better result than the linear regression model.\n",
        "\n",
        "\n"
      ]
    },
    {
      "cell_type": "markdown",
      "metadata": {
        "id": "k-gqx4Mx4tO7"
      },
      "source": [
        "# Step 5"
      ]
    },
    {
      "cell_type": "markdown",
      "metadata": {
        "id": "xQe6l7QMuWc7"
      },
      "source": [
        "### Feature Importance\n",
        "####Define the feature_analysis"
      ]
    },
    {
      "cell_type": "code",
      "execution_count": null,
      "metadata": {
        "id": "55uHhTNwuVZb"
      },
      "outputs": [],
      "source": [
        "import pandas as pd\n",
        "import numpy as np\n",
        "from scipy.stats import mode\n",
        "\n",
        "# a function for feature analysis\n",
        "def feature_analysis(X, nn, feature_names):\n",
        "    # determine first and second partial derivatives\n",
        "    with tf.GradientTape() as snd:\n",
        "        snd.watch(X)\n",
        "        with tf.GradientTape() as fst:\n",
        "            fst.watch(X)\n",
        "            # prediction with the neural network, i.e., f(X)\n",
        "            pred = nn(X)\n",
        "        # gradient\n",
        "        g = fst.gradient(pred, X)\n",
        "    # jacobian which outputs Hessian matrix\n",
        "    h = snd.batch_jacobian(g, X)\n",
        "\n",
        "    # first partial derivatives\n",
        "    g_np = g.numpy()\n",
        "    # average squard partial derivatives\n",
        "    g_mag_sq = (g_np**2).mean(axis = 0)\n",
        "    # square root of average squard partial derivatives\n",
        "    g_mag = np.sqrt(g_mag_sq)\n",
        "    # sign of average partial derivatives\n",
        "    g_dir = np.sign(g_np.mean(axis = 0))\n",
        "\n",
        "    # normalizing constant\n",
        "    C_ = np.sum(g_mag)\n",
        "    # normalized feature importance with sign\n",
        "    fi = (g_mag * g_dir) / C_\n",
        "\n",
        "    # get signs of each sample\n",
        "    fi_signs = np.sign(g_np)\n",
        "    # the mode is the sign which can be observed most often among all samples, the counts is how often this sign is observed\n",
        "    fi_modes, fi_counts = mode(fi_signs)\n",
        "    # dividing the count of the sign which is observed most often by the overall sample size gives us a frequency measure\n",
        "    # which is closer to one, the higher the conformity of the sign\n",
        "    fi_conformity = fi_counts / g_np.shape[0] #fi_modes * \n",
        "\n",
        "    # in analogy to the calculation above, we do the same thing with the second partial derivatives\n",
        "    h_np = h.numpy()\n",
        "    # get the square root of average squared direction of curvature and interactions\n",
        "    h_mag_sq = (h_np**2).mean(axis = 0)\n",
        "    h_mag = np.sqrt(h_mag_sq)\n",
        "\n",
        "    # the the sign of average curvature and interactions\n",
        "    h_dir = np.sign(h_np.mean(axis = 0))\n",
        "\n",
        "    # normalize the values on the diagonal line to compare the degree of non-linearity\n",
        "    C_nonlin = np.sum(h_mag.diagonal())\n",
        "    nonlinearity = (h_dir.diagonal() * h_mag.diagonal()) / C_nonlin\n",
        "\n",
        "    # normlize the interactions\n",
        "    lti = np.tril_indices(h_mag.shape[0], k = -1)\n",
        "    C_ia = np.sum(h_mag[lti])\n",
        "    interactions = (h_mag[lti] * h_dir[lti]) / C_ia\n",
        "\n",
        "    # bring curvature and interaction effects back to matrix format\n",
        "    snd_degree_summary = np.diag(nonlinearity)\n",
        "    a, b = lti\n",
        "    inter_iter = iter(interactions)\n",
        "    for i, j in zip(a, b):\n",
        "        snd_degree_summary[i, j] = next(inter_iter)\n",
        "        snd_degree_summary[j, i] = snd_degree_summary[i, j]\n",
        "\n",
        "    # get the conformity of second order effects\n",
        "    snd_signs = np.sign(h_np)\n",
        "    snd_degree_modes, snd_degreee_counts = mode(snd_signs)\n",
        "    snd_degree_conformity = snd_degreee_counts / h_np.shape[0] #snd_degree_modes * \n",
        "\n",
        "    # finally summarize feature importances and second order effects\n",
        "    summary = pd.DataFrame(data = snd_degree_summary, index = feature_names, columns = feature_names)\n",
        "    summary.loc[:, 'feature_importance'] = fi\n",
        "    # as well as their conformity\n",
        "    summary_conformity = pd.DataFrame(data = snd_degree_conformity.reshape(h_np.shape[1], h_np.shape[2]), index = feature_names, columns = feature_names)\n",
        "    summary_conformity.loc[:, 'feature_importance'] = fi_conformity.flatten()\n",
        "\n",
        "    return summary, summary_conformity"
      ]
    },
    {
      "cell_type": "code",
      "execution_count": null,
      "metadata": {
        "id": "4ERPmOb7PH1f"
      },
      "outputs": [],
      "source": [
        "X_test_tensor = tf.Variable(X_test_s)\n",
        "sum_test_nn, sum_c_test_nn = feature_analysis(X_test_tensor, model, X_test.columns)"
      ]
    },
    {
      "cell_type": "code",
      "execution_count": null,
      "metadata": {
        "colab": {
          "base_uri": "https://localhost:8080/"
        },
        "id": "Y9pmd07O6Ymq",
        "outputId": "e9c881aa-754d-43b5-c167-63b568067c41"
      },
      "outputs": [
        {
          "data": {
            "text/plain": [
              "book_to_market   -0.300961\n",
              "market_cap        0.516052\n",
              "beta              0.182986\n",
              "Name: feature_importance, dtype: float64"
            ]
          },
          "execution_count": 31,
          "metadata": {},
          "output_type": "execute_result"
        }
      ],
      "source": [
        "sum_test_nn[\"feature_importance\"]"
      ]
    },
    {
      "cell_type": "code",
      "execution_count": null,
      "metadata": {
        "colab": {
          "base_uri": "https://localhost:8080/",
          "height": 143
        },
        "id": "tX41_BHe6gZe",
        "outputId": "a66a7abf-9922-447c-f8c2-f5384d1a8502"
      },
      "outputs": [
        {
          "data": {
            "text/html": [
              "\n",
              "  <div id=\"df-6821d76a-d3e5-40c9-b805-fc5da3cf24e4\">\n",
              "    <div class=\"colab-df-container\">\n",
              "      <div>\n",
              "<style scoped>\n",
              "    .dataframe tbody tr th:only-of-type {\n",
              "        vertical-align: middle;\n",
              "    }\n",
              "\n",
              "    .dataframe tbody tr th {\n",
              "        vertical-align: top;\n",
              "    }\n",
              "\n",
              "    .dataframe thead th {\n",
              "        text-align: right;\n",
              "    }\n",
              "</style>\n",
              "<table border=\"1\" class=\"dataframe\">\n",
              "  <thead>\n",
              "    <tr style=\"text-align: right;\">\n",
              "      <th></th>\n",
              "      <th>book_to_market</th>\n",
              "      <th>market_cap</th>\n",
              "      <th>beta</th>\n",
              "      <th>feature_importance</th>\n",
              "    </tr>\n",
              "  </thead>\n",
              "  <tbody>\n",
              "    <tr>\n",
              "      <th>book_to_market</th>\n",
              "      <td>0.583027</td>\n",
              "      <td>0.619135</td>\n",
              "      <td>0.609476</td>\n",
              "      <td>0.990340</td>\n",
              "    </tr>\n",
              "    <tr>\n",
              "      <th>market_cap</th>\n",
              "      <td>0.619135</td>\n",
              "      <td>0.637305</td>\n",
              "      <td>0.586707</td>\n",
              "      <td>0.971251</td>\n",
              "    </tr>\n",
              "    <tr>\n",
              "      <th>beta</th>\n",
              "      <td>0.609476</td>\n",
              "      <td>0.586707</td>\n",
              "      <td>0.548068</td>\n",
              "      <td>0.997470</td>\n",
              "    </tr>\n",
              "  </tbody>\n",
              "</table>\n",
              "</div>\n",
              "      <button class=\"colab-df-convert\" onclick=\"convertToInteractive('df-6821d76a-d3e5-40c9-b805-fc5da3cf24e4')\"\n",
              "              title=\"Convert this dataframe to an interactive table.\"\n",
              "              style=\"display:none;\">\n",
              "        \n",
              "  <svg xmlns=\"http://www.w3.org/2000/svg\" height=\"24px\"viewBox=\"0 0 24 24\"\n",
              "       width=\"24px\">\n",
              "    <path d=\"M0 0h24v24H0V0z\" fill=\"none\"/>\n",
              "    <path d=\"M18.56 5.44l.94 2.06.94-2.06 2.06-.94-2.06-.94-.94-2.06-.94 2.06-2.06.94zm-11 1L8.5 8.5l.94-2.06 2.06-.94-2.06-.94L8.5 2.5l-.94 2.06-2.06.94zm10 10l.94 2.06.94-2.06 2.06-.94-2.06-.94-.94-2.06-.94 2.06-2.06.94z\"/><path d=\"M17.41 7.96l-1.37-1.37c-.4-.4-.92-.59-1.43-.59-.52 0-1.04.2-1.43.59L10.3 9.45l-7.72 7.72c-.78.78-.78 2.05 0 2.83L4 21.41c.39.39.9.59 1.41.59.51 0 1.02-.2 1.41-.59l7.78-7.78 2.81-2.81c.8-.78.8-2.07 0-2.86zM5.41 20L4 18.59l7.72-7.72 1.47 1.35L5.41 20z\"/>\n",
              "  </svg>\n",
              "      </button>\n",
              "      \n",
              "  <style>\n",
              "    .colab-df-container {\n",
              "      display:flex;\n",
              "      flex-wrap:wrap;\n",
              "      gap: 12px;\n",
              "    }\n",
              "\n",
              "    .colab-df-convert {\n",
              "      background-color: #E8F0FE;\n",
              "      border: none;\n",
              "      border-radius: 50%;\n",
              "      cursor: pointer;\n",
              "      display: none;\n",
              "      fill: #1967D2;\n",
              "      height: 32px;\n",
              "      padding: 0 0 0 0;\n",
              "      width: 32px;\n",
              "    }\n",
              "\n",
              "    .colab-df-convert:hover {\n",
              "      background-color: #E2EBFA;\n",
              "      box-shadow: 0px 1px 2px rgba(60, 64, 67, 0.3), 0px 1px 3px 1px rgba(60, 64, 67, 0.15);\n",
              "      fill: #174EA6;\n",
              "    }\n",
              "\n",
              "    [theme=dark] .colab-df-convert {\n",
              "      background-color: #3B4455;\n",
              "      fill: #D2E3FC;\n",
              "    }\n",
              "\n",
              "    [theme=dark] .colab-df-convert:hover {\n",
              "      background-color: #434B5C;\n",
              "      box-shadow: 0px 1px 3px 1px rgba(0, 0, 0, 0.15);\n",
              "      filter: drop-shadow(0px 1px 2px rgba(0, 0, 0, 0.3));\n",
              "      fill: #FFFFFF;\n",
              "    }\n",
              "  </style>\n",
              "\n",
              "      <script>\n",
              "        const buttonEl =\n",
              "          document.querySelector('#df-6821d76a-d3e5-40c9-b805-fc5da3cf24e4 button.colab-df-convert');\n",
              "        buttonEl.style.display =\n",
              "          google.colab.kernel.accessAllowed ? 'block' : 'none';\n",
              "\n",
              "        async function convertToInteractive(key) {\n",
              "          const element = document.querySelector('#df-6821d76a-d3e5-40c9-b805-fc5da3cf24e4');\n",
              "          const dataTable =\n",
              "            await google.colab.kernel.invokeFunction('convertToInteractive',\n",
              "                                                     [key], {});\n",
              "          if (!dataTable) return;\n",
              "\n",
              "          const docLinkHtml = 'Like what you see? Visit the ' +\n",
              "            '<a target=\"_blank\" href=https://colab.research.google.com/notebooks/data_table.ipynb>data table notebook</a>'\n",
              "            + ' to learn more about interactive tables.';\n",
              "          element.innerHTML = '';\n",
              "          dataTable['output_type'] = 'display_data';\n",
              "          await google.colab.output.renderOutput(dataTable, element);\n",
              "          const docLink = document.createElement('div');\n",
              "          docLink.innerHTML = docLinkHtml;\n",
              "          element.appendChild(docLink);\n",
              "        }\n",
              "      </script>\n",
              "    </div>\n",
              "  </div>\n",
              "  "
            ],
            "text/plain": [
              "                book_to_market  market_cap      beta  feature_importance\n",
              "book_to_market        0.583027    0.619135  0.609476            0.990340\n",
              "market_cap            0.619135    0.637305  0.586707            0.971251\n",
              "beta                  0.609476    0.586707  0.548068            0.997470"
            ]
          },
          "execution_count": 32,
          "metadata": {},
          "output_type": "execute_result"
        }
      ],
      "source": [
        "sum_c_test_nn"
      ]
    },
    {
      "cell_type": "code",
      "execution_count": null,
      "metadata": {
        "colab": {
          "base_uri": "https://localhost:8080/",
          "height": 282
        },
        "id": "t7V43IaU6tFi",
        "outputId": "14671629-f6f2-4772-82f9-778e62490421"
      },
      "outputs": [
        {
          "data": {
            "text/plain": [
              "<matplotlib.axes._subplots.AxesSubplot at 0x7f06c37388b0>"
            ]
          },
          "execution_count": 33,
          "metadata": {},
          "output_type": "execute_result"
        },
        {
          "data": {
            "image/png": "[encoded data removed]",
            "text/plain": [
              "<Figure size 432x288 with 1 Axes>"
            ]
          },
          "metadata": {
            "needs_background": "light"
          },
          "output_type": "display_data"
        }
      ],
      "source": [
        "fi = pd.DataFrame(sum_test_nn[\"feature_importance\"])\n",
        "fi.loc[:, \"feature_importance_abs\"] = fi.feature_importance.abs()\n",
        "fi.sort_values(by=\"feature_importance_abs\", ascending=True, inplace =True)\n",
        "fi.plot.barh()"
      ]
    },
    {
      "cell_type": "markdown",
      "metadata": {
        "id": "YNt5yWoF5Be4"
      },
      "source": [
        "####linear regression feature importance"
      ]
    },
    {
      "cell_type": "code",
      "execution_count": null,
      "metadata": {
        "colab": {
          "base_uri": "https://localhost:8080/"
        },
        "id": "v3uYjnl8_6BQ",
        "outputId": "d701b5cf-680c-4bee-b7ab-3e78dd3b6aa3"
      },
      "outputs": [
        {
          "name": "stdout",
          "output_type": "stream",
          "text": [
            "book_to_market, Score: 0.00118\n",
            "market_cap, Score: -0.00005\n",
            "beta, Score: 0.02529\n"
          ]
        }
      ],
      "source": [
        "importance = log_reg.coef_\n",
        "# summarize feature importance\n",
        "for i,v in enumerate(importance):\n",
        " print('%s, Score: %.5f' % (X_train.columns[i],v))\n"
      ]
    },
    {
      "cell_type": "code",
      "execution_count": null,
      "metadata": {
        "colab": {
          "base_uri": "https://localhost:8080/",
          "height": 282
        },
        "id": "6vXL-oX6wNXF",
        "outputId": "81f54496-81ee-47a0-8599-f46e670a9c65"
      },
      "outputs": [
        {
          "data": {
            "text/plain": [
              "<matplotlib.axes._subplots.AxesSubplot at 0x7f06c36ff6a0>"
            ]
          },
          "execution_count": 35,
          "metadata": {},
          "output_type": "execute_result"
        },
        {
          "data": {
            "image/png": "[encoded data removed]",
            "text/plain": [
              "<Figure size 432x288 with 1 Axes>"
            ]
          },
          "metadata": {
            "needs_background": "light"
          },
          "output_type": "display_data"
        }
      ],
      "source": [
        "log_reg_coef = pd.DataFrame(data = log_reg.coef_.flatten(), index = X_train.columns, columns=[\"reg_coef\"])\n",
        "log_reg_coef.loc[:, 'reg_coef_abs'] = log_reg_coef.reg_coef.abs()\n",
        "log_reg_coef.sort_values(by=\"reg_coef_abs\", ascending= True, inplace = True)\n",
        "log_reg_coef.plot.barh()\n"
      ]
    },
    {
      "cell_type": "markdown",
      "metadata": {
        "id": "mZEfTr7nQWt_"
      },
      "source": [
        "# Step 6"
      ]
    },
    {
      "cell_type": "markdown",
      "metadata": {
        "id": "TofsYIGIFAQc"
      },
      "source": [
        "###Install optuna"
      ]
    },
    {
      "cell_type": "code",
      "execution_count": null,
      "metadata": {
        "colab": {
          "base_uri": "https://localhost:8080/"
        },
        "id": "92zGZg7KQZ5h",
        "outputId": "0161e7ea-04b3-4a82-cee1-95c5b29edee0"
      },
      "outputs": [
        {
          "name": "stdout",
          "output_type": "stream",
          "text": [
            "Looking in indexes: https://pypi.org/simple, https://us-python.pkg.dev/colab-wheels/public/simple/\n",
            "Collecting optuna\n",
            "  Downloading optuna-3.0.5-py3-none-any.whl (348 kB)\n",
            "\u001b[K     |████████████████████████████████| 348 kB 5.4 MB/s \n",
            "\u001b[?25hRequirement already satisfied: tqdm in /usr/local/lib/python3.8/dist-packages (from optuna) (4.64.1)\n",
            "Requirement already satisfied: scipy<1.9.0,>=1.7.0 in /usr/local/lib/python3.8/dist-packages (from optuna) (1.7.3)\n",
            "Requirement already satisfied: packaging>=20.0 in /usr/local/lib/python3.8/dist-packages (from optuna) (21.3)\n",
            "Collecting importlib-metadata<5.0.0\n",
            "  Downloading importlib_metadata-4.13.0-py3-none-any.whl (23 kB)\n",
            "Requirement already satisfied: sqlalchemy>=1.3.0 in /usr/local/lib/python3.8/dist-packages (from optuna) (1.4.45)\n",
            "Collecting cliff\n",
            "  Downloading cliff-4.1.0-py3-none-any.whl (81 kB)\n",
            "\u001b[K     |████████████████████████████████| 81 kB 9.9 MB/s \n",
            "\u001b[?25hRequirement already satisfied: numpy in /usr/local/lib/python3.8/dist-packages (from optuna) (1.21.6)\n",
            "Requirement already satisfied: PyYAML in /usr/local/lib/python3.8/dist-packages (from optuna) (6.0)\n",
            "Collecting alembic>=1.5.0\n",
            "  Downloading alembic-1.9.0-py3-none-any.whl (210 kB)\n",
            "\u001b[K     |████████████████████████████████| 210 kB 55.3 MB/s \n",
            "\u001b[?25hCollecting cmaes>=0.8.2\n",
            "  Downloading cmaes-0.9.0-py3-none-any.whl (23 kB)\n",
            "Collecting colorlog\n",
            "  Downloading colorlog-6.7.0-py2.py3-none-any.whl (11 kB)\n",
            "Requirement already satisfied: importlib-resources in /usr/local/lib/python3.8/dist-packages (from alembic>=1.5.0->optuna) (5.10.1)\n",
            "Collecting Mako\n",
            "  Downloading Mako-1.2.4-py3-none-any.whl (78 kB)\n",
            "\u001b[K     |████████████████████████████████| 78 kB 8.1 MB/s \n",
            "\u001b[?25hRequirement already satisfied: zipp>=0.5 in /usr/local/lib/python3.8/dist-packages (from importlib-metadata<5.0.0->optuna) (3.11.0)\n",
            "Requirement already satisfied: pyparsing!=3.0.5,>=2.0.2 in /usr/local/lib/python3.8/dist-packages (from packaging>=20.0->optuna) (3.0.9)\n",
            "Requirement already satisfied: greenlet!=0.4.17 in /usr/local/lib/python3.8/dist-packages (from sqlalchemy>=1.3.0->optuna) (2.0.1)\n",
            "Collecting cmd2>=1.0.0\n",
            "  Downloading cmd2-2.4.2-py3-none-any.whl (147 kB)\n",
            "\u001b[K     |████████████████████████████████| 147 kB 78.3 MB/s \n",
            "\u001b[?25hCollecting autopage>=0.4.0\n",
            "  Downloading autopage-0.5.1-py3-none-any.whl (29 kB)\n",
            "Requirement already satisfied: PrettyTable>=0.7.2 in /usr/local/lib/python3.8/dist-packages (from cliff->optuna) (3.5.0)\n",
            "Collecting stevedore>=2.0.1\n",
            "  Downloading stevedore-4.1.1-py3-none-any.whl (50 kB)\n",
            "\u001b[K     |████████████████████████████████| 50 kB 6.8 MB/s \n",
            "\u001b[?25hCollecting pyperclip>=1.6\n",
            "  Downloading pyperclip-1.8.2.tar.gz (20 kB)\n",
            "Requirement already satisfied: attrs>=16.3.0 in /usr/local/lib/python3.8/dist-packages (from cmd2>=1.0.0->cliff->optuna) (22.1.0)\n",
            "Requirement already satisfied: wcwidth>=0.1.7 in /usr/local/lib/python3.8/dist-packages (from cmd2>=1.0.0->cliff->optuna) (0.2.5)\n",
            "Collecting pbr!=2.1.0,>=2.0.0\n",
            "  Downloading pbr-5.11.0-py2.py3-none-any.whl (112 kB)\n",
            "\u001b[K     |████████████████████████████████| 112 kB 31.1 MB/s \n",
            "\u001b[?25hRequirement already satisfied: MarkupSafe>=0.9.2 in /usr/local/lib/python3.8/dist-packages (from Mako->alembic>=1.5.0->optuna) (2.0.1)\n",
            "Building wheels for collected packages: pyperclip\n",
            "  Building wheel for pyperclip (setup.py) ... \u001b[?25l\u001b[?25hdone\n",
            "  Created wheel for pyperclip: filename=pyperclip-1.8.2-py3-none-any.whl size=11136 sha256=dafecea2299549477cc6d5dee3687a1fb93bc8ac301fedf14885bdbe1441dc64\n",
            "  Stored in directory: /root/.cache/pip/wheels/7f/1a/65/84ff8c386bec21fca6d220ea1f5498a0367883a78dd5ba6122\n",
            "Successfully built pyperclip\n",
            "Installing collected packages: pyperclip, pbr, stevedore, Mako, importlib-metadata, cmd2, autopage, colorlog, cmaes, cliff, alembic, optuna\n",
            "  Attempting uninstall: importlib-metadata\n",
            "    Found existing installation: importlib-metadata 5.1.0\n",
            "    Uninstalling importlib-metadata-5.1.0:\n",
            "      Successfully uninstalled importlib-metadata-5.1.0\n",
            "Successfully installed Mako-1.2.4 alembic-1.9.0 autopage-0.5.1 cliff-4.1.0 cmaes-0.9.0 cmd2-2.4.2 colorlog-6.7.0 importlib-metadata-4.13.0 optuna-3.0.5 pbr-5.11.0 pyperclip-1.8.2 stevedore-4.1.1\n"
          ]
        }
      ],
      "source": [
        "!pip install optuna"
      ]
    },
    {
      "cell_type": "markdown",
      "metadata": {
        "id": "FGbL32REFFqD"
      },
      "source": [
        "###Define method \"objective\""
      ]
    },
    {
      "cell_type": "code",
      "execution_count": null,
      "metadata": {
        "colab": {
          "base_uri": "https://localhost:8080/"
        },
        "id": "q7-430OQbYDH",
        "outputId": "29641b8a-c8b4-4c3f-8fc0-97516e964270"
      },
      "outputs": [
        {
          "name": "stderr",
          "output_type": "stream",
          "text": [
            "\u001b[32m[I 2022-12-21 05:43:04,225]\u001b[0m A new study created in memory with name: no-name-c3d51710-321a-45e2-b889-ad18e0a6434d\u001b[0m\n"
          ]
        },
        {
          "name": "stdout",
          "output_type": "stream",
          "text": [
            "136/136 [==============================] - 0s 2ms/step\n"
          ]
        },
        {
          "name": "stderr",
          "output_type": "stream",
          "text": [
            "\u001b[32m[I 2022-12-21 05:43:15,779]\u001b[0m Trial 0 finished with value: -0.4069961263015558 and parameters: {'n_layers': 1, 'n_units_l0': 45, 'a_fun_l0': 'sigmoid', 'loss_fun': 'huber_loss', 'optimizer': 'RMSprop', 'callback_patience': 3, 'training_epochs': 59}. Best is trial 0 with value: -0.4069961263015558.\u001b[0m\n"
          ]
        },
        {
          "name": "stdout",
          "output_type": "stream",
          "text": [
            "136/136 [==============================] - 1s 3ms/step\n"
          ]
        },
        {
          "name": "stderr",
          "output_type": "stream",
          "text": [
            "\u001b[32m[I 2022-12-21 05:43:22,169]\u001b[0m Trial 1 finished with value: -0.4624729894250661 and parameters: {'n_layers': 3, 'n_units_l0': 25, 'a_fun_l0': 'tanh', 'n_units_l1': 17, 'a_fun_l1': 'tanh', 'n_units_l2': 11, 'a_fun_l2': 'relu', 'loss_fun': 'mean_squared_error', 'optimizer': 'Adam', 'callback_patience': 4, 'training_epochs': 77}. Best is trial 0 with value: -0.4069961263015558.\u001b[0m\n"
          ]
        },
        {
          "name": "stdout",
          "output_type": "stream",
          "text": [
            "136/136 [==============================] - 1s 3ms/step\n"
          ]
        },
        {
          "name": "stderr",
          "output_type": "stream",
          "text": [
            "\u001b[32m[I 2022-12-21 05:43:29,277]\u001b[0m Trial 2 finished with value: -0.37012038329694175 and parameters: {'n_layers': 2, 'n_units_l0': 38, 'a_fun_l0': 'tanh', 'n_units_l1': 10, 'a_fun_l1': 'relu', 'loss_fun': 'mean_squared_error', 'optimizer': 'RMSprop', 'callback_patience': 2, 'training_epochs': 12}. Best is trial 2 with value: -0.37012038329694175.\u001b[0m\n"
          ]
        },
        {
          "name": "stdout",
          "output_type": "stream",
          "text": [
            "136/136 [==============================] - 0s 3ms/step\n"
          ]
        },
        {
          "name": "stderr",
          "output_type": "stream",
          "text": [
            "\u001b[32m[I 2022-12-21 05:43:41,143]\u001b[0m Trial 3 finished with value: -0.527973061010137 and parameters: {'n_layers': 2, 'n_units_l0': 7, 'a_fun_l0': 'tanh', 'n_units_l1': 11, 'a_fun_l1': 'relu', 'loss_fun': 'mean_squared_error', 'optimizer': 'Adam', 'callback_patience': 3, 'training_epochs': 96}. Best is trial 2 with value: -0.37012038329694175.\u001b[0m\n"
          ]
        },
        {
          "name": "stdout",
          "output_type": "stream",
          "text": [
            "136/136 [==============================] - 0s 1ms/step\n"
          ]
        },
        {
          "name": "stderr",
          "output_type": "stream",
          "text": [
            "\u001b[32m[I 2022-12-21 05:43:44,998]\u001b[0m Trial 4 finished with value: -0.4772370959614305 and parameters: {'n_layers': 3, 'n_units_l0': 35, 'a_fun_l0': 'sigmoid', 'n_units_l1': 23, 'a_fun_l1': 'sigmoid', 'n_units_l2': 10, 'a_fun_l2': 'sigmoid', 'loss_fun': 'mean_squared_error', 'optimizer': 'Adam', 'callback_patience': 3, 'training_epochs': 78}. Best is trial 2 with value: -0.37012038329694175.\u001b[0m\n"
          ]
        },
        {
          "name": "stdout",
          "output_type": "stream",
          "text": [
            "136/136 [==============================] - 0s 1ms/step\n"
          ]
        },
        {
          "name": "stderr",
          "output_type": "stream",
          "text": [
            "\u001b[32m[I 2022-12-21 05:43:49,276]\u001b[0m Trial 5 finished with value: -0.4332240167493917 and parameters: {'n_layers': 2, 'n_units_l0': 8, 'a_fun_l0': 'relu', 'n_units_l1': 14, 'a_fun_l1': 'tanh', 'loss_fun': 'mean_squared_error', 'optimizer': 'Adam', 'callback_patience': 3, 'training_epochs': 62}. Best is trial 2 with value: -0.37012038329694175.\u001b[0m\n"
          ]
        },
        {
          "name": "stdout",
          "output_type": "stream",
          "text": [
            "136/136 [==============================] - 0s 2ms/step\n"
          ]
        },
        {
          "name": "stderr",
          "output_type": "stream",
          "text": [
            "\u001b[32m[I 2022-12-21 05:43:55,740]\u001b[0m Trial 6 finished with value: -0.4885293094145702 and parameters: {'n_layers': 2, 'n_units_l0': 6, 'a_fun_l0': 'relu', 'n_units_l1': 49, 'a_fun_l1': 'tanh', 'loss_fun': 'huber_loss', 'optimizer': 'Adam', 'callback_patience': 3, 'training_epochs': 32}. Best is trial 2 with value: -0.37012038329694175.\u001b[0m\n"
          ]
        },
        {
          "name": "stdout",
          "output_type": "stream",
          "text": [
            "136/136 [==============================] - 0s 1ms/step\n"
          ]
        },
        {
          "name": "stderr",
          "output_type": "stream",
          "text": [
            "\u001b[32m[I 2022-12-21 05:44:02,200]\u001b[0m Trial 7 finished with value: -0.5931244404062272 and parameters: {'n_layers': 2, 'n_units_l0': 8, 'a_fun_l0': 'relu', 'n_units_l1': 68, 'a_fun_l1': 'tanh', 'loss_fun': 'mean_absolute_error', 'optimizer': 'RMSprop', 'callback_patience': 5, 'training_epochs': 66}. Best is trial 2 with value: -0.37012038329694175.\u001b[0m\n"
          ]
        },
        {
          "name": "stdout",
          "output_type": "stream",
          "text": [
            "136/136 [==============================] - 0s 1ms/step\n"
          ]
        },
        {
          "name": "stderr",
          "output_type": "stream",
          "text": [
            "\u001b[32m[I 2022-12-21 05:44:04,602]\u001b[0m Trial 8 finished with value: -0.7429512404817156 and parameters: {'n_layers': 2, 'n_units_l0': 42, 'a_fun_l0': 'sigmoid', 'n_units_l1': 14, 'a_fun_l1': 'sigmoid', 'loss_fun': 'huber_loss', 'optimizer': 'RMSprop', 'callback_patience': 1, 'training_epochs': 92}. Best is trial 2 with value: -0.37012038329694175.\u001b[0m\n"
          ]
        },
        {
          "name": "stdout",
          "output_type": "stream",
          "text": [
            "136/136 [==============================] - 0s 1ms/step\n"
          ]
        },
        {
          "name": "stderr",
          "output_type": "stream",
          "text": [
            "\u001b[32m[I 2022-12-21 05:44:10,665]\u001b[0m Trial 9 finished with value: -0.521456076071924 and parameters: {'n_layers': 3, 'n_units_l0': 4, 'a_fun_l0': 'tanh', 'n_units_l1': 19, 'a_fun_l1': 'relu', 'n_units_l2': 42, 'a_fun_l2': 'relu', 'loss_fun': 'mean_squared_error', 'optimizer': 'Adam', 'callback_patience': 3, 'training_epochs': 22}. Best is trial 2 with value: -0.37012038329694175.\u001b[0m\n"
          ]
        },
        {
          "name": "stdout",
          "output_type": "stream",
          "text": [
            "136/136 [==============================] - 0s 1ms/step\n"
          ]
        },
        {
          "name": "stderr",
          "output_type": "stream",
          "text": [
            "\u001b[32m[I 2022-12-21 05:44:12,772]\u001b[0m Trial 10 finished with value: -0.8146879959659172 and parameters: {'n_layers': 1, 'n_units_l0': 124, 'a_fun_l0': 'tanh', 'loss_fun': 'mean_absolute_error', 'optimizer': 'RMSprop', 'callback_patience': 1, 'training_epochs': 37}. Best is trial 2 with value: -0.37012038329694175.\u001b[0m\n"
          ]
        },
        {
          "name": "stdout",
          "output_type": "stream",
          "text": [
            "136/136 [==============================] - 0s 1ms/step\n"
          ]
        },
        {
          "name": "stderr",
          "output_type": "stream",
          "text": [
            "\u001b[32m[I 2022-12-21 05:44:16,359]\u001b[0m Trial 11 finished with value: -0.5080772090129448 and parameters: {'n_layers': 1, 'n_units_l0': 63, 'a_fun_l0': 'sigmoid', 'loss_fun': 'huber_loss', 'optimizer': 'RMSprop', 'callback_patience': 2, 'training_epochs': 12}. Best is trial 2 with value: -0.37012038329694175.\u001b[0m\n"
          ]
        },
        {
          "name": "stdout",
          "output_type": "stream",
          "text": [
            "136/136 [==============================] - 0s 1ms/step\n"
          ]
        },
        {
          "name": "stderr",
          "output_type": "stream",
          "text": [
            "\u001b[32m[I 2022-12-21 05:44:19,925]\u001b[0m Trial 12 finished with value: -0.418587256832025 and parameters: {'n_layers': 1, 'n_units_l0': 16, 'a_fun_l0': 'sigmoid', 'loss_fun': 'huber_loss', 'optimizer': 'RMSprop', 'callback_patience': 2, 'training_epochs': 44}. Best is trial 2 with value: -0.37012038329694175.\u001b[0m\n"
          ]
        },
        {
          "name": "stdout",
          "output_type": "stream",
          "text": [
            "136/136 [==============================] - 0s 1ms/step\n"
          ]
        },
        {
          "name": "stderr",
          "output_type": "stream",
          "text": [
            "\u001b[32m[I 2022-12-21 05:44:22,102]\u001b[0m Trial 13 finished with value: -0.4383494290095271 and parameters: {'n_layers': 1, 'n_units_l0': 84, 'a_fun_l0': 'tanh', 'loss_fun': 'huber_loss', 'optimizer': 'RMSprop', 'callback_patience': 2, 'training_epochs': 51}. Best is trial 2 with value: -0.37012038329694175.\u001b[0m\n"
          ]
        },
        {
          "name": "stdout",
          "output_type": "stream",
          "text": [
            "136/136 [==============================] - 0s 1ms/step\n"
          ]
        },
        {
          "name": "stderr",
          "output_type": "stream",
          "text": [
            "\u001b[32m[I 2022-12-21 05:44:27,147]\u001b[0m Trial 14 finished with value: -0.46702871282009406 and parameters: {'n_layers': 1, 'n_units_l0': 17, 'a_fun_l0': 'sigmoid', 'loss_fun': 'mean_absolute_error', 'optimizer': 'RMSprop', 'callback_patience': 4, 'training_epochs': 11}. Best is trial 2 with value: -0.37012038329694175.\u001b[0m\n"
          ]
        },
        {
          "name": "stdout",
          "output_type": "stream",
          "text": [
            "136/136 [==============================] - 0s 1ms/step\n"
          ]
        },
        {
          "name": "stderr",
          "output_type": "stream",
          "text": [
            "\u001b[32m[I 2022-12-21 05:44:33,884]\u001b[0m Trial 15 finished with value: -0.35906717195610716 and parameters: {'n_layers': 1, 'n_units_l0': 49, 'a_fun_l0': 'tanh', 'loss_fun': 'huber_loss', 'optimizer': 'RMSprop', 'callback_patience': 4, 'training_epochs': 56}. Best is trial 15 with value: -0.35906717195610716.\u001b[0m\n"
          ]
        },
        {
          "name": "stdout",
          "output_type": "stream",
          "text": [
            "136/136 [==============================] - 0s 2ms/step\n"
          ]
        },
        {
          "name": "stderr",
          "output_type": "stream",
          "text": [
            "\u001b[32m[I 2022-12-21 05:44:41,353]\u001b[0m Trial 16 finished with value: -0.539117359737707 and parameters: {'n_layers': 3, 'n_units_l0': 26, 'a_fun_l0': 'tanh', 'n_units_l1': 4, 'a_fun_l1': 'relu', 'n_units_l2': 87, 'a_fun_l2': 'tanh', 'loss_fun': 'mean_squared_error', 'optimizer': 'RMSprop', 'callback_patience': 5, 'training_epochs': 28}. Best is trial 15 with value: -0.35906717195610716.\u001b[0m\n"
          ]
        },
        {
          "name": "stdout",
          "output_type": "stream",
          "text": [
            "136/136 [==============================] - 0s 2ms/step\n"
          ]
        },
        {
          "name": "stderr",
          "output_type": "stream",
          "text": [
            "\u001b[32m[I 2022-12-21 05:44:44,493]\u001b[0m Trial 17 finished with value: -0.4166321821991561 and parameters: {'n_layers': 2, 'n_units_l0': 68, 'a_fun_l0': 'tanh', 'n_units_l1': 5, 'a_fun_l1': 'relu', 'loss_fun': 'mean_squared_error', 'optimizer': 'RMSprop', 'callback_patience': 4, 'training_epochs': 48}. Best is trial 15 with value: -0.35906717195610716.\u001b[0m\n"
          ]
        },
        {
          "name": "stdout",
          "output_type": "stream",
          "text": [
            "136/136 [==============================] - 1s 4ms/step\n"
          ]
        },
        {
          "name": "stderr",
          "output_type": "stream",
          "text": [
            "\u001b[32m[I 2022-12-21 05:44:58,947]\u001b[0m Trial 18 finished with value: -0.5354295907311524 and parameters: {'n_layers': 2, 'n_units_l0': 12, 'a_fun_l0': 'tanh', 'n_units_l1': 7, 'a_fun_l1': 'relu', 'loss_fun': 'huber_loss', 'optimizer': 'RMSprop', 'callback_patience': 2, 'training_epochs': 75}. Best is trial 15 with value: -0.35906717195610716.\u001b[0m\n"
          ]
        },
        {
          "name": "stdout",
          "output_type": "stream",
          "text": [
            "136/136 [==============================] - 1s 5ms/step\n"
          ]
        },
        {
          "name": "stderr",
          "output_type": "stream",
          "text": [
            "\u001b[32m[I 2022-12-21 05:45:09,875]\u001b[0m Trial 19 finished with value: -0.4637415499371549 and parameters: {'n_layers': 1, 'n_units_l0': 118, 'a_fun_l0': 'tanh', 'loss_fun': 'mean_absolute_error', 'optimizer': 'RMSprop', 'callback_patience': 4, 'training_epochs': 21}. Best is trial 15 with value: -0.35906717195610716.\u001b[0m\n"
          ]
        }
      ],
      "source": [
        "import optuna\n",
        "\n",
        "def objective(trial):\n",
        "  n_layers = trial.suggest_int('n_layers',1,3)\n",
        "  my_model = tf.keras.Sequential()\n",
        "  my_model.add(tf.keras.layers.InputLayer(input_shape = X_train_s.shape[1]))\n",
        "\n",
        "  for i in range(n_layers):\n",
        "    num_hidden = trial.suggest_int(f'n_units_l{i}', 4, 128, log=True)\n",
        "    a_fun = trial.suggest_categorical(f'a_fun_l{i}', ['tanh','sigmoid','relu'])\n",
        "    my_model.add(tf.keras.layers.Dense(num_hidden, activation=a_fun))\n",
        "\n",
        "  my_model.add(tf.keras.layers.Dense(1, activation = output_fun))\n",
        "  loss_fun = trial.suggest_categorical(f'loss_fun', [\"mean_squared_error\",\"mean_absolute_error\",\"huber_loss\"])\n",
        "  optim= trial.suggest_categorical(f'optimizer', [\"Adam\",\"RMSprop\"])\n",
        "\n",
        "  my_model.compile(loss = loss_fun, optimizer=optim)\n",
        "\n",
        "  call_back_patience = trial.suggest_int(f'callback_patience',1,5)\n",
        "  my_callback = tf.keras.callbacks.EarlyStopping(monitor=\"val_loss\", patience = call_back_patience)\n",
        "\n",
        "  n_epochs = trial.suggest_int(f'training_epochs',10,100)\n",
        "  my_model.fit(X_train_s, y_train, epochs = n_epochs, validation_data=(X_test_s, y_test), callbacks = [my_callback], verbose=0)\n",
        "\n",
        "  y_test_pred = my_model.predict(X_test_s).flatten()\n",
        "  r2_test = r2_score(y_test,y_test_pred)\n",
        "  return r2_test\n",
        "\n",
        "study = optuna.create_study(direction=\"maximize\")\n",
        "study.optimize(objective, n_trials = 20 )"
      ]
    },
    {
      "cell_type": "markdown",
      "metadata": {
        "id": "7qnEke0XFRaD"
      },
      "source": [
        "### Find best hparams and predict"
      ]
    },
    {
      "cell_type": "code",
      "execution_count": null,
      "metadata": {
        "colab": {
          "base_uri": "https://localhost:8080/"
        },
        "id": "EEuFl-Wcj-29",
        "outputId": "c8b63194-f210-4228-df85-93fb9f1e8e1f"
      },
      "outputs": [
        {
          "name": "stdout",
          "output_type": "stream",
          "text": [
            "{'n_layers': 1, 'n_units_l0': 49, 'a_fun_l0': 'tanh', 'loss_fun': 'huber_loss', 'optimizer': 'RMSprop', 'callback_patience': 4, 'training_epochs': 56}\n"
          ]
        }
      ],
      "source": [
        "best_hparams = study.best_trial.params\n",
        "print(best_hparams)"
      ]
    },
    {
      "cell_type": "code",
      "execution_count": null,
      "metadata": {
        "colab": {
          "base_uri": "https://localhost:8080/"
        },
        "id": "xdxO3wUujKcC",
        "outputId": "01984881-81ff-4926-8eee-fcb69368c552"
      },
      "outputs": [
        {
          "name": "stdout",
          "output_type": "stream",
          "text": [
            "136/136 [==============================] - 1s 6ms/step\n"
          ]
        }
      ],
      "source": [
        "best_hparams_iterator = iter(study.best_trial.params)\n",
        "\n",
        "n_layers = best_hparams[next(best_hparams_iterator)]\n",
        "\n",
        "my_model = tf.keras.Sequential()\n",
        "my_model.add(tf.keras.layers.InputLayer(input_shape=X_train.shape[1]))\n",
        "\n",
        "for i in range(n_layers):\n",
        "  num_hidden = best_hparams[next(best_hparams_iterator)]\n",
        "  a_fun = best_hparams[next(best_hparams_iterator)]\n",
        "  my_model.add(tf.keras.layers.Dense(num_hidden, activation = a_fun))\n",
        "\n",
        "my_model.add(tf.keras.layers.Dense(1, activation = output_fun))\n",
        "\n",
        "my_model.compile(loss = best_hparams[\"loss_fun\"], optimizer = best_hparams[\"optimizer\"])\n",
        "my_callback = tf.keras.callbacks.EarlyStopping(monitor=\"val_loss\", patience = best_hparams['callback_patience'])\n",
        "my_model.fit(X_train_s, y_train, epochs = best_hparams['training_epochs'], validation_data = (X_val_s, y_val), callbacks=[my_callback], verbose=0)\n",
        "\n",
        "y_test_pred_with_best_hparams =  my_model.predict(X_test_s).flatten()\n",
        "optuna_nn_r2_score = r2_score(y_test, y_test_pred_with_best_hparams)"
      ]
    },
    {
      "cell_type": "markdown",
      "metadata": {
        "id": "T30k6MmGxiJo"
      },
      "source": [
        "### Mean-Absolute-Error"
      ]
    },
    {
      "cell_type": "code",
      "execution_count": null,
      "metadata": {
        "colab": {
          "base_uri": "https://localhost:8080/"
        },
        "id": "7XbmypqqxkOo",
        "outputId": "91fb41ea-2286-4277-89a3-e0d845866a8e"
      },
      "outputs": [
        {
          "name": "stdout",
          "output_type": "stream",
          "text": [
            "0.1474903333140406\n"
          ]
        }
      ],
      "source": [
        "best_hparams_mae = mean_absolute_error(y_test_pred_with_best_hparams, y_test)\n",
        "print(best_hparams_mae)"
      ]
    },
    {
      "cell_type": "markdown",
      "metadata": {
        "id": "Mf2wQO_m2EqJ"
      },
      "source": [
        "#Step 7"
      ]
    },
    {
      "cell_type": "code",
      "execution_count": null,
      "metadata": {
        "id": "-RyhNh_V8QOn"
      },
      "outputs": [],
      "source": [
        "#Optuna Model\n",
        "sum_test_optuna_model, sum_c_test_optuna_model = feature_analysis(X_test_tensor, my_model, X_test.columns)"
      ]
    },
    {
      "cell_type": "code",
      "execution_count": null,
      "metadata": {
        "colab": {
          "base_uri": "https://localhost:8080/"
        },
        "id": "mWDG01H18WqA",
        "outputId": "70662f3a-38c7-4e5a-f7a3-966c68514dc2"
      },
      "outputs": [
        {
          "data": {
            "text/plain": [
              "book_to_market    0.141830\n",
              "market_cap       -0.405634\n",
              "beta              0.452537\n",
              "Name: feature_importance, dtype: float64"
            ]
          },
          "execution_count": 42,
          "metadata": {},
          "output_type": "execute_result"
        }
      ],
      "source": [
        "sum_test_optuna_model[\"feature_importance\"] \n"
      ]
    },
    {
      "cell_type": "code",
      "execution_count": null,
      "metadata": {
        "colab": {
          "base_uri": "https://localhost:8080/",
          "height": 143
        },
        "id": "p0CWsU0T93lY",
        "outputId": "38421243-ab12-415a-8832-9d200247c55d"
      },
      "outputs": [
        {
          "data": {
            "text/html": [
              "\n",
              "  <div id=\"df-aa16f3a4-10fd-4a9e-bf6d-f58c103ff1e1\">\n",
              "    <div class=\"colab-df-container\">\n",
              "      <div>\n",
              "<style scoped>\n",
              "    .dataframe tbody tr th:only-of-type {\n",
              "        vertical-align: middle;\n",
              "    }\n",
              "\n",
              "    .dataframe tbody tr th {\n",
              "        vertical-align: top;\n",
              "    }\n",
              "\n",
              "    .dataframe thead th {\n",
              "        text-align: right;\n",
              "    }\n",
              "</style>\n",
              "<table border=\"1\" class=\"dataframe\">\n",
              "  <thead>\n",
              "    <tr style=\"text-align: right;\">\n",
              "      <th></th>\n",
              "      <th>book_to_market</th>\n",
              "      <th>market_cap</th>\n",
              "      <th>beta</th>\n",
              "      <th>feature_importance</th>\n",
              "    </tr>\n",
              "  </thead>\n",
              "  <tbody>\n",
              "    <tr>\n",
              "      <th>book_to_market</th>\n",
              "      <td>0.625345</td>\n",
              "      <td>0.545998</td>\n",
              "      <td>0.529209</td>\n",
              "      <td>0.790248</td>\n",
              "    </tr>\n",
              "    <tr>\n",
              "      <th>market_cap</th>\n",
              "      <td>0.545998</td>\n",
              "      <td>0.657544</td>\n",
              "      <td>0.515639</td>\n",
              "      <td>0.999080</td>\n",
              "    </tr>\n",
              "    <tr>\n",
              "      <th>beta</th>\n",
              "      <td>0.529209</td>\n",
              "      <td>0.515639</td>\n",
              "      <td>0.526449</td>\n",
              "      <td>0.983901</td>\n",
              "    </tr>\n",
              "  </tbody>\n",
              "</table>\n",
              "</div>\n",
              "      <button class=\"colab-df-convert\" onclick=\"convertToInteractive('df-aa16f3a4-10fd-4a9e-bf6d-f58c103ff1e1')\"\n",
              "              title=\"Convert this dataframe to an interactive table.\"\n",
              "              style=\"display:none;\">\n",
              "        \n",
              "  <svg xmlns=\"http://www.w3.org/2000/svg\" height=\"24px\"viewBox=\"0 0 24 24\"\n",
              "       width=\"24px\">\n",
              "    <path d=\"M0 0h24v24H0V0z\" fill=\"none\"/>\n",
              "    <path d=\"M18.56 5.44l.94 2.06.94-2.06 2.06-.94-2.06-.94-.94-2.06-.94 2.06-2.06.94zm-11 1L8.5 8.5l.94-2.06 2.06-.94-2.06-.94L8.5 2.5l-.94 2.06-2.06.94zm10 10l.94 2.06.94-2.06 2.06-.94-2.06-.94-.94-2.06-.94 2.06-2.06.94z\"/><path d=\"M17.41 7.96l-1.37-1.37c-.4-.4-.92-.59-1.43-.59-.52 0-1.04.2-1.43.59L10.3 9.45l-7.72 7.72c-.78.78-.78 2.05 0 2.83L4 21.41c.39.39.9.59 1.41.59.51 0 1.02-.2 1.41-.59l7.78-7.78 2.81-2.81c.8-.78.8-2.07 0-2.86zM5.41 20L4 18.59l7.72-7.72 1.47 1.35L5.41 20z\"/>\n",
              "  </svg>\n",
              "      </button>\n",
              "      \n",
              "  <style>\n",
              "    .colab-df-container {\n",
              "      display:flex;\n",
              "      flex-wrap:wrap;\n",
              "      gap: 12px;\n",
              "    }\n",
              "\n",
              "    .colab-df-convert {\n",
              "      background-color: #E8F0FE;\n",
              "      border: none;\n",
              "      border-radius: 50%;\n",
              "      cursor: pointer;\n",
              "      display: none;\n",
              "      fill: #1967D2;\n",
              "      height: 32px;\n",
              "      padding: 0 0 0 0;\n",
              "      width: 32px;\n",
              "    }\n",
              "\n",
              "    .colab-df-convert:hover {\n",
              "      background-color: #E2EBFA;\n",
              "      box-shadow: 0px 1px 2px rgba(60, 64, 67, 0.3), 0px 1px 3px 1px rgba(60, 64, 67, 0.15);\n",
              "      fill: #174EA6;\n",
              "    }\n",
              "\n",
              "    [theme=dark] .colab-df-convert {\n",
              "      background-color: #3B4455;\n",
              "      fill: #D2E3FC;\n",
              "    }\n",
              "\n",
              "    [theme=dark] .colab-df-convert:hover {\n",
              "      background-color: #434B5C;\n",
              "      box-shadow: 0px 1px 3px 1px rgba(0, 0, 0, 0.15);\n",
              "      filter: drop-shadow(0px 1px 2px rgba(0, 0, 0, 0.3));\n",
              "      fill: #FFFFFF;\n",
              "    }\n",
              "  </style>\n",
              "\n",
              "      <script>\n",
              "        const buttonEl =\n",
              "          document.querySelector('#df-aa16f3a4-10fd-4a9e-bf6d-f58c103ff1e1 button.colab-df-convert');\n",
              "        buttonEl.style.display =\n",
              "          google.colab.kernel.accessAllowed ? 'block' : 'none';\n",
              "\n",
              "        async function convertToInteractive(key) {\n",
              "          const element = document.querySelector('#df-aa16f3a4-10fd-4a9e-bf6d-f58c103ff1e1');\n",
              "          const dataTable =\n",
              "            await google.colab.kernel.invokeFunction('convertToInteractive',\n",
              "                                                     [key], {});\n",
              "          if (!dataTable) return;\n",
              "\n",
              "          const docLinkHtml = 'Like what you see? Visit the ' +\n",
              "            '<a target=\"_blank\" href=https://colab.research.google.com/notebooks/data_table.ipynb>data table notebook</a>'\n",
              "            + ' to learn more about interactive tables.';\n",
              "          element.innerHTML = '';\n",
              "          dataTable['output_type'] = 'display_data';\n",
              "          await google.colab.output.renderOutput(dataTable, element);\n",
              "          const docLink = document.createElement('div');\n",
              "          docLink.innerHTML = docLinkHtml;\n",
              "          element.appendChild(docLink);\n",
              "        }\n",
              "      </script>\n",
              "    </div>\n",
              "  </div>\n",
              "  "
            ],
            "text/plain": [
              "                book_to_market  market_cap      beta  feature_importance\n",
              "book_to_market        0.625345    0.545998  0.529209            0.790248\n",
              "market_cap            0.545998    0.657544  0.515639            0.999080\n",
              "beta                  0.529209    0.515639  0.526449            0.983901"
            ]
          },
          "execution_count": 43,
          "metadata": {},
          "output_type": "execute_result"
        }
      ],
      "source": [
        "sum_c_test_optuna_model"
      ]
    },
    {
      "cell_type": "markdown",
      "metadata": {
        "id": "AfaPy4-RyGRV"
      },
      "source": [
        "# STEP 8"
      ]
    },
    {
      "cell_type": "code",
      "execution_count": null,
      "metadata": {
        "colab": {
          "base_uri": "https://localhost:8080/"
        },
        "id": "i9uF_LqDJuz1",
        "outputId": "736a68e4-41da-4c31-f85f-0cdf1481eaa2"
      },
      "outputs": [
        {
          "name": "stdout",
          "output_type": "stream",
          "text": [
            "Linear regression R2 score:-0.4750\n",
            "Neural network R2 score:-0.3843\n",
            "Optuna neural network R2 score:-0.5995\n"
          ]
        }
      ],
      "source": [
        "print(f'Linear regression R2 score:{lr_r2_score:.4f}')\n",
        "print(f'Neural network R2 score:{nn_r2_score:.4f}')\n",
        "print(f'Optuna neural network R2 score:{optuna_nn_r2_score:.4f}')"
      ]
    },
    {
      "cell_type": "code",
      "execution_count": null,
      "metadata": {
        "colab": {
          "base_uri": "https://localhost:8080/"
        },
        "id": "2dopGMVZyNJe",
        "outputId": "7543f5f4-5d81-43a9-fc89-11eb08626a8f"
      },
      "outputs": [
        {
          "name": "stdout",
          "output_type": "stream",
          "text": [
            "mean_absolute_error of linear regression: 0.13710582505046462\n",
            "\n",
            "mean_absolute_error of neural network: 0.13058082382271863\n",
            "\n",
            "mean_absolute_error of neural network with optuna: 0.1474903333140406\n",
            "\n"
          ]
        }
      ],
      "source": [
        "print(\"mean_absolute_error of linear regression: \" + str(lr_mae)+ \"\\n\")\n",
        "\n",
        "print(\"mean_absolute_error of neural network: \" + str(nn_mae)+ \"\\n\")\n",
        "\n",
        "print(\"mean_absolute_error of neural network with optuna: \" + str(best_hparams_mae)+ \"\\n\")"
      ]
    },
    {
      "cell_type": "markdown",
      "metadata": {
        "id": "r5b2_ortFtLA"
      },
      "source": [
        "###Result\n",
        "\n",
        "\n",
        "\n",
        "*   Both models are well-trained and return results with a low margin of error.\n",
        "\n",
        "*   The neural network model is the model that gives the lowest mean absolute error value.\n",
        "\n",
        "*   Optuma NN trained would be expected to perform better than baseline NN.\n",
        "\n",
        "> The reasons may be too many hidden layers, too many epochs. This may change if the amount of hidden layer is reduced or the epoch value is reduced\n",
        "\n",
        "\n",
        "*   In general, all 3 models are close to each other and 0. This means that the 3 model can be used to analyze new data.\n",
        "\n",
        "\n",
        "\n",
        "\n",
        "\n",
        "\n",
        "\n",
        "\n",
        "\n",
        "\n"
      ]
    }
  ],
  "metadata": {
    "colab": {
      "collapsed_sections": [
        "3tzT1eTOy1WG",
        "8UL0T9NFy6bi",
        "k-gqx4Mx4tO7",
        "Mf2wQO_m2EqJ"
      ],
      "provenance": []
    },
    "kernelspec": {
      "display_name": "Python 3",
      "name": "python3"
    },
    "language_info": {
      "name": "python"
    }
  },
  "nbformat": 4,
  "nbformat_minor": 0
}
